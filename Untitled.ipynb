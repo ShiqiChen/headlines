{
 "cells": [
  {
   "cell_type": "code",
   "execution_count": 1,
   "metadata": {},
   "outputs": [],
   "source": [
    "import urllib.request\n",
    "import urllib\n",
    "import urllib.parse"
   ]
  },
  {
   "cell_type": "code",
   "execution_count": 12,
   "metadata": {},
   "outputs": [],
   "source": [
    "import json"
   ]
  },
  {
   "cell_type": "code",
   "execution_count": 2,
   "metadata": {},
   "outputs": [],
   "source": [
    "WEATHER_URL = 'http://api.openweathermap.org/data/2.5/weather?q={}&units=metric&appid=403808e9c5f820a7ac7e14c69258d7f8'"
   ]
  },
  {
   "cell_type": "code",
   "execution_count": 4,
   "metadata": {},
   "outputs": [],
   "source": [
    "query = 'san francisco'"
   ]
  },
  {
   "cell_type": "code",
   "execution_count": 5,
   "metadata": {},
   "outputs": [],
   "source": [
    "query = urllib.parse.quote(query)"
   ]
  },
  {
   "cell_type": "code",
   "execution_count": 6,
   "metadata": {},
   "outputs": [
    {
     "data": {
      "text/plain": [
       "'san%20francisco'"
      ]
     },
     "execution_count": 6,
     "metadata": {},
     "output_type": "execute_result"
    }
   ],
   "source": [
    "query"
   ]
  },
  {
   "cell_type": "code",
   "execution_count": 7,
   "metadata": {},
   "outputs": [],
   "source": [
    "url = WEATHER_URL.format(query)"
   ]
  },
  {
   "cell_type": "code",
   "execution_count": 8,
   "metadata": {},
   "outputs": [
    {
     "data": {
      "text/plain": [
       "'http://api.openweathermap.org/data/2.5/weather?q=san%20francisco&units=metric&appid=403808e9c5f820a7ac7e14c69258d7f8'"
      ]
     },
     "execution_count": 8,
     "metadata": {},
     "output_type": "execute_result"
    }
   ],
   "source": [
    "url"
   ]
  },
  {
   "cell_type": "code",
   "execution_count": 9,
   "metadata": {},
   "outputs": [],
   "source": [
    "data = urllib.request.urlopen(url).read()"
   ]
  },
  {
   "cell_type": "code",
   "execution_count": 10,
   "metadata": {},
   "outputs": [
    {
     "data": {
      "text/plain": [
       "b'{\"coord\":{\"lon\":-122.42,\"lat\":37.77},\"weather\":[{\"id\":800,\"main\":\"Clear\",\"description\":\"clear sky\",\"icon\":\"01d\"}],\"base\":\"stations\",\"main\":{\"temp\":19.69,\"feels_like\":18,\"temp_min\":18.33,\"temp_max\":21.11,\"pressure\":1017,\"humidity\":64},\"visibility\":10000,\"wind\":{\"speed\":3.6,\"deg\":300},\"clouds\":{\"all\":1},\"dt\":1603130654,\"sys\":{\"type\":1,\"id\":5154,\"country\":\"US\",\"sunrise\":1603117339,\"sunset\":1603157184},\"timezone\":-25200,\"id\":5391959,\"name\":\"San Francisco\",\"cod\":200}'"
      ]
     },
     "execution_count": 10,
     "metadata": {},
     "output_type": "execute_result"
    }
   ],
   "source": [
    "data"
   ]
  },
  {
   "cell_type": "code",
   "execution_count": 13,
   "metadata": {},
   "outputs": [],
   "source": [
    "parsed = json.loads(data)"
   ]
  },
  {
   "cell_type": "code",
   "execution_count": 14,
   "metadata": {},
   "outputs": [
    {
     "data": {
      "text/plain": [
       "{'coord': {'lon': -122.42, 'lat': 37.77},\n",
       " 'weather': [{'id': 800,\n",
       "   'main': 'Clear',\n",
       "   'description': 'clear sky',\n",
       "   'icon': '01d'}],\n",
       " 'base': 'stations',\n",
       " 'main': {'temp': 19.69,\n",
       "  'feels_like': 18,\n",
       "  'temp_min': 18.33,\n",
       "  'temp_max': 21.11,\n",
       "  'pressure': 1017,\n",
       "  'humidity': 64},\n",
       " 'visibility': 10000,\n",
       " 'wind': {'speed': 3.6, 'deg': 300},\n",
       " 'clouds': {'all': 1},\n",
       " 'dt': 1603130654,\n",
       " 'sys': {'type': 1,\n",
       "  'id': 5154,\n",
       "  'country': 'US',\n",
       "  'sunrise': 1603117339,\n",
       "  'sunset': 1603157184},\n",
       " 'timezone': -25200,\n",
       " 'id': 5391959,\n",
       " 'name': 'San Francisco',\n",
       " 'cod': 200}"
      ]
     },
     "execution_count": 14,
     "metadata": {},
     "output_type": "execute_result"
    }
   ],
   "source": [
    "parsed"
   ]
  },
  {
   "cell_type": "code",
   "execution_count": 15,
   "metadata": {},
   "outputs": [],
   "source": [
    "CURRENCY_URL = \"https://openexchangerates.org//api/latest.json?app_id=11113611531d4bceb6340812aabf99d4\"\n"
   ]
  },
  {
   "cell_type": "code",
   "execution_count": 16,
   "metadata": {},
   "outputs": [],
   "source": [
    "all_currency = urllib.request.urlopen(CURRENCY_URL).read()"
   ]
  },
  {
   "cell_type": "code",
   "execution_count": 18,
   "metadata": {},
   "outputs": [
    {
     "data": {
      "text/plain": [
       "b'{\\n  \"disclaimer\": \"Usage subject to terms: https://openexchangerates.org/terms\",\\n  \"license\": \"https://openexchangerates.org/license\",\\n  \"timestamp\": 1603130400,\\n  \"base\": \"USD\",\\n  \"rates\": {\\n    \"AED\": 3.673,\\n    \"AFN\": 76.800005,\\n    \"ALL\": 105.7,\\n    \"AMD\": 481.616228,\\n    \"ANG\": 1.795012,\\n    \"AOA\": 651.385,\\n    \"ARS\": 77.5756,\\n    \"AUD\": 1.41235,\\n    \"AWG\": 1.8,\\n    \"AZN\": 1.7025,\\n    \"BAM\": 1.662153,\\n    \"BBD\": 2,\\n    \"BDT\": 84.793568,\\n    \"BGN\": 1.66362,\\n    \"BHD\": 0.377033,\\n    \"BIF\": 1936,\\n    \"BMD\": 1,\\n    \"BND\": 1.35718,\\n    \"BOB\": 6.904874,\\n    \"BRL\": 5.5846,\\n    \"BSD\": 1,\\n    \"BTC\": 0.000085245242,\\n    \"BTN\": 73.310305,\\n    \"BWP\": 11.441537,\\n    \"BYN\": 2.562878,\\n    \"BZD\": 2.015646,\\n    \"CAD\": 1.316275,\\n    \"CDF\": 1960,\\n    \"CHF\": 0.909557,\\n    \"CLF\": 0.028518,\\n    \"CLP\": 786.899796,\\n    \"CNH\": 6.674713,\\n    \"CNY\": 6.6822,\\n    \"COP\": 3844.12,\\n    \"CRC\": 603.282392,\\n    \"CUC\": 1.000251,\\n    \"CUP\": 25.75,\\n    \"CVE\": 94.5,\\n    \"CZK\": 23.1567,\\n    \"DJF\": 178.025,\\n    \"DKK\": 6.3169,\\n    \"DOP\": 58.45,\\n    \"DZD\": 128.859387,\\n    \"EGP\": 15.702353,\\n    \"ERN\": 15.000119,\\n    \"ETB\": 37.1,\\n    \"EUR\": 0.848858,\\n    \"FJD\": 2.141,\\n    \"FKP\": 0.7713,\\n    \"GBP\": 0.7713,\\n    \"GEL\": 3.23,\\n    \"GGP\": 0.7713,\\n    \"GHS\": 5.81,\\n    \"GIP\": 0.7713,\\n    \"GMD\": 51.75,\\n    \"GNF\": 9790,\\n    \"GTQ\": 7.77986,\\n    \"GYD\": 209.082964,\\n    \"HKD\": 7.75035,\\n    \"HNL\": 24.500001,\\n    \"HRK\": 6.439497,\\n    \"HTG\": 62.998803,\\n    \"HUF\": 309.870977,\\n    \"IDR\": 14729.3,\\n    \"ILS\": 3.38517,\\n    \"IMP\": 0.7713,\\n    \"INR\": 73.363802,\\n    \"IQD\": 1190,\\n    \"IRR\": 42105,\\n    \"ISK\": 139.04,\\n    \"JEP\": 0.7713,\\n    \"JMD\": 145.667812,\\n    \"JOD\": 0.709,\\n    \"JPY\": 105.45475,\\n    \"KES\": 108.76,\\n    \"KGS\": 81.248552,\\n    \"KHR\": 4105,\\n    \"KMF\": 420.200165,\\n    \"KPW\": 900,\\n    \"KRW\": 1139.315,\\n    \"KWD\": 0.305862,\\n    \"KYD\": 0.833344,\\n    \"KZT\": 428.143335,\\n    \"LAK\": 9245,\\n    \"LBP\": 1519,\\n    \"LKR\": 184.400719,\\n    \"LRD\": 195.449977,\\n    \"LSL\": 16.54,\\n    \"LYD\": 1.365,\\n    \"MAD\": 9.2075,\\n    \"MDL\": 16.917706,\\n    \"MGA\": 3925,\\n    \"MKD\": 52.401947,\\n    \"MMK\": 1290.977244,\\n    \"MNT\": 2848.528347,\\n    \"MOP\": 7.98263,\\n    \"MRO\": 357,\\n    \"MRU\": 36.935,\\n    \"MUR\": 39.899999,\\n    \"MVR\": 15.4,\\n    \"MWK\": 757,\\n    \"MXN\": 21.202536,\\n    \"MYR\": 4.1485,\\n    \"MZN\": 73.00001,\\n    \"NAD\": 16.54,\\n    \"NGN\": 381,\\n    \"NIO\": 34.73,\\n    \"NOK\": 9.317237,\\n    \"NPR\": 117.296182,\\n    \"NZD\": 1.509914,\\n    \"OMR\": 0.384997,\\n    \"PAB\": 1,\\n    \"PEN\": 3.585,\\n    \"PGK\": 3.5025,\\n    \"PHP\": 48.572043,\\n    \"PKR\": 162.75,\\n    \"PLN\": 3.88492,\\n    \"PYG\": 7025.910041,\\n    \"QAR\": 3.64125,\\n    \"RON\": 4.139,\\n    \"RSD\": 99.84,\\n    \"RUB\": 77.5933,\\n    \"RWF\": 976,\\n    \"SAR\": 3.750696,\\n    \"SBD\": 8.08084,\\n    \"SCR\": 18.309921,\\n    \"SDG\": 55.275,\\n    \"SEK\": 8.82275,\\n    \"SGD\": 1.35721,\\n    \"SHP\": 0.7713,\\n    \"SLL\": 9967.50017,\\n    \"SOS\": 583,\\n    \"SRD\": 14.154,\\n    \"SSP\": 130.26,\\n    \"STD\": 21004.453008,\\n    \"STN\": 21,\\n    \"SVC\": 8.749931,\\n    \"SYP\": 512.837487,\\n    \"SZL\": 16.54,\\n    \"THB\": 31.199,\\n    \"TJS\": 10.320009,\\n    \"TMT\": 3.5,\\n    \"TND\": 2.75375,\\n    \"TOP\": 2.32025,\\n    \"TRY\": 7.892,\\n    \"TTD\": 6.786748,\\n    \"TWD\": 28.7525,\\n    \"TZS\": 2320,\\n    \"UAH\": 28.367064,\\n    \"UGX\": 3742.051613,\\n    \"USD\": 1,\\n    \"UYU\": 42.905799,\\n    \"UZS\": 10364,\\n    \"VEF\": 248487.642241,\\n    \"VES\": 450371.225225,\\n    \"VND\": 23153.072196,\\n    \"VUV\": 113.820748,\\n    \"WST\": 2.643907,\\n    \"XAF\": 556.814355,\\n    \"XAG\": 0.04080303,\\n    \"XAU\": 0.00052472,\\n    \"XCD\": 2.70255,\\n    \"XDR\": 0.708424,\\n    \"XOF\": 556.814355,\\n    \"XPD\": 0.00042672,\\n    \"XPF\": 101.295705,\\n    \"XPT\": 0.00115943,\\n    \"YER\": 250.349961,\\n    \"ZAR\": 16.503405,\\n    \"ZMW\": 20.198524,\\n    \"ZWL\": 322\\n  }\\n}'"
      ]
     },
     "execution_count": 18,
     "metadata": {},
     "output_type": "execute_result"
    }
   ],
   "source": [
    "all_currency"
   ]
  },
  {
   "cell_type": "code",
   "execution_count": 19,
   "metadata": {},
   "outputs": [],
   "source": [
    "parsed = json.loads(all_currency).get('rates')"
   ]
  },
  {
   "cell_type": "code",
   "execution_count": 20,
   "metadata": {},
   "outputs": [
    {
     "data": {
      "text/plain": [
       "{'AED': 3.673,\n",
       " 'AFN': 76.800005,\n",
       " 'ALL': 105.7,\n",
       " 'AMD': 481.616228,\n",
       " 'ANG': 1.795012,\n",
       " 'AOA': 651.385,\n",
       " 'ARS': 77.5756,\n",
       " 'AUD': 1.41235,\n",
       " 'AWG': 1.8,\n",
       " 'AZN': 1.7025,\n",
       " 'BAM': 1.662153,\n",
       " 'BBD': 2,\n",
       " 'BDT': 84.793568,\n",
       " 'BGN': 1.66362,\n",
       " 'BHD': 0.377033,\n",
       " 'BIF': 1936,\n",
       " 'BMD': 1,\n",
       " 'BND': 1.35718,\n",
       " 'BOB': 6.904874,\n",
       " 'BRL': 5.5846,\n",
       " 'BSD': 1,\n",
       " 'BTC': 8.5245242e-05,\n",
       " 'BTN': 73.310305,\n",
       " 'BWP': 11.441537,\n",
       " 'BYN': 2.562878,\n",
       " 'BZD': 2.015646,\n",
       " 'CAD': 1.316275,\n",
       " 'CDF': 1960,\n",
       " 'CHF': 0.909557,\n",
       " 'CLF': 0.028518,\n",
       " 'CLP': 786.899796,\n",
       " 'CNH': 6.674713,\n",
       " 'CNY': 6.6822,\n",
       " 'COP': 3844.12,\n",
       " 'CRC': 603.282392,\n",
       " 'CUC': 1.000251,\n",
       " 'CUP': 25.75,\n",
       " 'CVE': 94.5,\n",
       " 'CZK': 23.1567,\n",
       " 'DJF': 178.025,\n",
       " 'DKK': 6.3169,\n",
       " 'DOP': 58.45,\n",
       " 'DZD': 128.859387,\n",
       " 'EGP': 15.702353,\n",
       " 'ERN': 15.000119,\n",
       " 'ETB': 37.1,\n",
       " 'EUR': 0.848858,\n",
       " 'FJD': 2.141,\n",
       " 'FKP': 0.7713,\n",
       " 'GBP': 0.7713,\n",
       " 'GEL': 3.23,\n",
       " 'GGP': 0.7713,\n",
       " 'GHS': 5.81,\n",
       " 'GIP': 0.7713,\n",
       " 'GMD': 51.75,\n",
       " 'GNF': 9790,\n",
       " 'GTQ': 7.77986,\n",
       " 'GYD': 209.082964,\n",
       " 'HKD': 7.75035,\n",
       " 'HNL': 24.500001,\n",
       " 'HRK': 6.439497,\n",
       " 'HTG': 62.998803,\n",
       " 'HUF': 309.870977,\n",
       " 'IDR': 14729.3,\n",
       " 'ILS': 3.38517,\n",
       " 'IMP': 0.7713,\n",
       " 'INR': 73.363802,\n",
       " 'IQD': 1190,\n",
       " 'IRR': 42105,\n",
       " 'ISK': 139.04,\n",
       " 'JEP': 0.7713,\n",
       " 'JMD': 145.667812,\n",
       " 'JOD': 0.709,\n",
       " 'JPY': 105.45475,\n",
       " 'KES': 108.76,\n",
       " 'KGS': 81.248552,\n",
       " 'KHR': 4105,\n",
       " 'KMF': 420.200165,\n",
       " 'KPW': 900,\n",
       " 'KRW': 1139.315,\n",
       " 'KWD': 0.305862,\n",
       " 'KYD': 0.833344,\n",
       " 'KZT': 428.143335,\n",
       " 'LAK': 9245,\n",
       " 'LBP': 1519,\n",
       " 'LKR': 184.400719,\n",
       " 'LRD': 195.449977,\n",
       " 'LSL': 16.54,\n",
       " 'LYD': 1.365,\n",
       " 'MAD': 9.2075,\n",
       " 'MDL': 16.917706,\n",
       " 'MGA': 3925,\n",
       " 'MKD': 52.401947,\n",
       " 'MMK': 1290.977244,\n",
       " 'MNT': 2848.528347,\n",
       " 'MOP': 7.98263,\n",
       " 'MRO': 357,\n",
       " 'MRU': 36.935,\n",
       " 'MUR': 39.899999,\n",
       " 'MVR': 15.4,\n",
       " 'MWK': 757,\n",
       " 'MXN': 21.202536,\n",
       " 'MYR': 4.1485,\n",
       " 'MZN': 73.00001,\n",
       " 'NAD': 16.54,\n",
       " 'NGN': 381,\n",
       " 'NIO': 34.73,\n",
       " 'NOK': 9.317237,\n",
       " 'NPR': 117.296182,\n",
       " 'NZD': 1.509914,\n",
       " 'OMR': 0.384997,\n",
       " 'PAB': 1,\n",
       " 'PEN': 3.585,\n",
       " 'PGK': 3.5025,\n",
       " 'PHP': 48.572043,\n",
       " 'PKR': 162.75,\n",
       " 'PLN': 3.88492,\n",
       " 'PYG': 7025.910041,\n",
       " 'QAR': 3.64125,\n",
       " 'RON': 4.139,\n",
       " 'RSD': 99.84,\n",
       " 'RUB': 77.5933,\n",
       " 'RWF': 976,\n",
       " 'SAR': 3.750696,\n",
       " 'SBD': 8.08084,\n",
       " 'SCR': 18.309921,\n",
       " 'SDG': 55.275,\n",
       " 'SEK': 8.82275,\n",
       " 'SGD': 1.35721,\n",
       " 'SHP': 0.7713,\n",
       " 'SLL': 9967.50017,\n",
       " 'SOS': 583,\n",
       " 'SRD': 14.154,\n",
       " 'SSP': 130.26,\n",
       " 'STD': 21004.453008,\n",
       " 'STN': 21,\n",
       " 'SVC': 8.749931,\n",
       " 'SYP': 512.837487,\n",
       " 'SZL': 16.54,\n",
       " 'THB': 31.199,\n",
       " 'TJS': 10.320009,\n",
       " 'TMT': 3.5,\n",
       " 'TND': 2.75375,\n",
       " 'TOP': 2.32025,\n",
       " 'TRY': 7.892,\n",
       " 'TTD': 6.786748,\n",
       " 'TWD': 28.7525,\n",
       " 'TZS': 2320,\n",
       " 'UAH': 28.367064,\n",
       " 'UGX': 3742.051613,\n",
       " 'USD': 1,\n",
       " 'UYU': 42.905799,\n",
       " 'UZS': 10364,\n",
       " 'VEF': 248487.642241,\n",
       " 'VES': 450371.225225,\n",
       " 'VND': 23153.072196,\n",
       " 'VUV': 113.820748,\n",
       " 'WST': 2.643907,\n",
       " 'XAF': 556.814355,\n",
       " 'XAG': 0.04080303,\n",
       " 'XAU': 0.00052472,\n",
       " 'XCD': 2.70255,\n",
       " 'XDR': 0.708424,\n",
       " 'XOF': 556.814355,\n",
       " 'XPD': 0.00042672,\n",
       " 'XPF': 101.295705,\n",
       " 'XPT': 0.00115943,\n",
       " 'YER': 250.349961,\n",
       " 'ZAR': 16.503405,\n",
       " 'ZMW': 20.198524,\n",
       " 'ZWL': 322}"
      ]
     },
     "execution_count": 20,
     "metadata": {},
     "output_type": "execute_result"
    }
   ],
   "source": [
    "parsed"
   ]
  },
  {
   "cell_type": "code",
   "execution_count": 21,
   "metadata": {},
   "outputs": [
    {
     "ename": "NameError",
     "evalue": "name 'frm' is not defined",
     "output_type": "error",
     "traceback": [
      "\u001b[0;31m---------------------------------------------------------------------------\u001b[0m",
      "\u001b[0;31mNameError\u001b[0m                                 Traceback (most recent call last)",
      "\u001b[0;32m<ipython-input-21-41362fccb0d3>\u001b[0m in \u001b[0;36m<module>\u001b[0;34m\u001b[0m\n\u001b[0;32m----> 1\u001b[0;31m \u001b[0mfrm_rate\u001b[0m \u001b[0;34m=\u001b[0m \u001b[0mparsed\u001b[0m\u001b[0;34m.\u001b[0m\u001b[0mget\u001b[0m\u001b[0;34m(\u001b[0m\u001b[0mfrm\u001b[0m\u001b[0;34m.\u001b[0m\u001b[0mupper\u001b[0m\u001b[0;34m(\u001b[0m\u001b[0;34m)\u001b[0m\u001b[0;34m)\u001b[0m\u001b[0;34m\u001b[0m\u001b[0;34m\u001b[0m\u001b[0m\n\u001b[0m\u001b[1;32m      2\u001b[0m \u001b[0mto_rate\u001b[0m \u001b[0;34m=\u001b[0m \u001b[0mparsed\u001b[0m\u001b[0;34m.\u001b[0m\u001b[0mget\u001b[0m\u001b[0;34m(\u001b[0m\u001b[0mto\u001b[0m\u001b[0;34m.\u001b[0m\u001b[0mupper\u001b[0m\u001b[0;34m(\u001b[0m\u001b[0;34m)\u001b[0m\u001b[0;34m)\u001b[0m\u001b[0;34m\u001b[0m\u001b[0;34m\u001b[0m\u001b[0m\n",
      "\u001b[0;31mNameError\u001b[0m: name 'frm' is not defined"
     ]
    }
   ],
   "source": [
    "frm_rate = parsed.get(frm.upper())\n",
    "to_rate = parsed.get(to.upper())"
   ]
  },
  {
   "cell_type": "code",
   "execution_count": null,
   "metadata": {},
   "outputs": [],
   "source": []
  }
 ],
 "metadata": {
  "kernelspec": {
   "display_name": "Python 3",
   "language": "python",
   "name": "python3"
  },
  "language_info": {
   "codemirror_mode": {
    "name": "ipython",
    "version": 3
   },
   "file_extension": ".py",
   "mimetype": "text/x-python",
   "name": "python",
   "nbconvert_exporter": "python",
   "pygments_lexer": "ipython3",
   "version": "3.8.6"
  }
 },
 "nbformat": 4,
 "nbformat_minor": 4
}
